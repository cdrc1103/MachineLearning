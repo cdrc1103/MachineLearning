{
 "cells": [
  {
   "cell_type": "markdown",
   "metadata": {
    "collapsed": true,
    "pycharm": {
     "is_executing": false
    }
   },
   "source": [
    "# Q-Learning with OpenAI Gym\n",
    "\n",
    "### Reinforcement Learning is Learning \"what to do\" from positive experiences.\n",
    "\n",
    "- agent: individual that is exposed to the environment\n",
    "- state: situation that the individual encounters</td>\n",
    "- action: performing a transition from one state to another</td>\n",
    "- reward / penalty: received by the agent after transition performing depending on the result\n",
    "- policy: trategy of choosing an action given a state in expectation of better outcomes\n",
    "- state space: set of all possible situations\n",
    "- action space: set of all the actions, the agent can take in a given state"
   ]
  },
  {
   "cell_type": "markdown",
   "metadata": {},
   "source": [
    "### Taxi-V2 Environment\n",
    "\n",
    "- The filled square represents the taxi, which is yellow without a passenger and green with a passenger.\n",
    "- The pipe (\"|\") represents a wall which the taxi cannot cross.\n",
    "- R, G, Y, B are the possible pickup and destination locations. The blue letter represents the current passenger pick-up location, and the purple letter is the current destination.\n",
    "\n",
    "Problem:<br>\n",
    "There are 4 locations (labeled by different letters), and our job is to pick up the passenger at one location and drop him off at another. We receive +20 points for a successful drop-off and lose 1 point for every time-step it takes. There is also a 10 point penalty for illegal pick-up and drop-off actions."
   ]
  },
  {
   "cell_type": "code",
   "execution_count": 2,
   "metadata": {},
   "outputs": [
    {
     "name": "stdout",
     "output_type": "stream",
     "text": [
      "+---------+\n",
      "|\u001b[34;1mR\u001b[0m: | : :G|\n",
      "| : : : : |\n",
      "| : : : : |\n",
      "| | : | : |\n",
      "|\u001b[35mY\u001b[0m| : |B:\u001b[43m \u001b[0m|\n",
      "+---------+\n",
      "\n"
     ]
    }
   ],
   "source": [
    "# Install OpenAI Gym for game environment.\n",
    "import gym\n",
    "\n",
    "# Build environment and render it.\n",
    "env = gym.make(\"Taxi-v2\").env\n",
    "env.render()"
   ]
  },
  {
   "cell_type": "code",
   "execution_count": 5,
   "metadata": {},
   "outputs": [
    {
     "name": "stdout",
     "output_type": "stream",
     "text": [
      "+---------+\n",
      "|R: | : :G|\n",
      "| :\u001b[43m \u001b[0m: : : |\n",
      "| : : : : |\n",
      "| | : | : |\n",
      "|\u001b[35mY\u001b[0m| : |\u001b[34;1mB\u001b[0m: |\n",
      "+---------+\n",
      "\n",
      "Action Space Discrete(6) (south, north, east, west, pickup, dropoff)\n",
      "State Space Discrete(500)\n"
     ]
    }
   ],
   "source": [
    "# Reset environment and return to random initial state.\n",
    "env.reset()\n",
    "env.render()\n",
    "\n",
    "print(f\"Action Space {env.action_space} (south, north, east, west, pickup, dropoff)\")\n",
    "print(f\"State Space {env.observation_space}\")"
   ]
  },
  {
   "cell_type": "code",
   "execution_count": 10,
   "metadata": {},
   "outputs": [
    {
     "name": "stdout",
     "output_type": "stream",
     "text": [
      "State: 248\n",
      "+---------+\n",
      "|\u001b[35mR\u001b[0m: | : :G|\n",
      "| : : : : |\n",
      "| : :\u001b[43m \u001b[0m: : |\n",
      "| | : | : |\n",
      "|\u001b[34;1mY\u001b[0m| : |B: |\n",
      "+---------+\n",
      "\n"
     ]
    }
   ],
   "source": [
    "# Encode a specific state and give it to the environment to render it in Gym.\n",
    "state = env.encode(2, 2, 2, 0) # (taxi row, taxi column, passenger index, destination index)\n",
    "print(\"State:\", state)\n",
    "\n",
    "env.s = state\n",
    "env.render()"
   ]
  },
  {
   "cell_type": "code",
   "execution_count": 11,
   "metadata": {},
   "outputs": [
    {
     "data": {
      "text/plain": [
       "{0: [(1.0, 348, -1, False)],\n",
       " 1: [(1.0, 148, -1, False)],\n",
       " 2: [(1.0, 268, -1, False)],\n",
       " 3: [(1.0, 228, -1, False)],\n",
       " 4: [(1.0, 248, -10, False)],\n",
       " 5: [(1.0, 248, -10, False)]}"
      ]
     },
     "execution_count": 11,
     "metadata": {},
     "output_type": "execute_result"
    }
   ],
   "source": [
    "# Get reward table for specific state with the default reward values for each action.\n",
    "env.P[248] # dictionary structure {action: [(probability, nextstate, reward, done)]}"
   ]
  },
  {
   "cell_type": "markdown",
   "metadata": {},
   "source": [
    "### Q-Learning\n",
    "- lets the agent use the environment's rewards to learn, over time, the best action to take in a given state\n",
    "- to remember if an action was beneficial, a Q-value is saved"
   ]
  }
 ],
 "metadata": {
  "kernelspec": {
   "display_name": "Python 3",
   "language": "python",
   "name": "python3"
  },
  "language_info": {
   "codemirror_mode": {
    "name": "ipython",
    "version": 3
   },
   "file_extension": ".py",
   "mimetype": "text/x-python",
   "name": "python",
   "nbconvert_exporter": "python",
   "pygments_lexer": "ipython3",
   "version": "3.7.4"
  }
 },
 "nbformat": 4,
 "nbformat_minor": 1
}
